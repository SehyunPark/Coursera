{
 "cells": [
  {
   "cell_type": "markdown",
   "id": "f0cd4979",
   "metadata": {
    "toc": true
   },
   "source": [
    "<h1>Table of Contents<span class=\"tocSkip\"></span></h1>\n",
    "<div class=\"toc\"><ul class=\"toc-item\"><li><span><a href=\"#Predicting-diamond-prices\" data-toc-modified-id=\"Predicting-diamond-prices-1\"><span class=\"toc-item-num\">1&nbsp;&nbsp;</span>Predicting diamond prices</a></span></li></ul></div>"
   ]
  },
  {
   "cell_type": "markdown",
   "id": "4c2afa38",
   "metadata": {},
   "source": [
    "# Predicting diamond prices"
   ]
  },
  {
   "cell_type": "raw",
   "id": "ab730a30",
   "metadata": {
    "ExecuteTime": {
     "end_time": "2024-01-10T14:19:34.575050Z",
     "start_time": "2024-01-10T14:17:59.006554Z"
    }
   },
   "source": [
    "pip install tensorflow"
   ]
  },
  {
   "cell_type": "code",
   "execution_count": 1,
   "id": "6ee2fad2",
   "metadata": {
    "ExecuteTime": {
     "end_time": "2024-01-10T14:39:34.984653Z",
     "start_time": "2024-01-10T14:39:28.595996Z"
    }
   },
   "outputs": [
    {
     "name": "stdout",
     "output_type": "stream",
     "text": [
      "WARNING:tensorflow:From C:\\Users\\harry\\anaconda3\\lib\\site-packages\\keras\\src\\losses.py:2976: The name tf.losses.sparse_softmax_cross_entropy is deprecated. Please use tf.compat.v1.losses.sparse_softmax_cross_entropy instead.\n",
      "\n"
     ]
    }
   ],
   "source": [
    "import tensorflow as tf\n",
    "import numpy as np\n",
    "import seaborn as sns\n",
    "import pandas as pd"
   ]
  },
  {
   "cell_type": "code",
   "execution_count": 2,
   "id": "1776e035",
   "metadata": {
    "ExecuteTime": {
     "end_time": "2024-01-10T14:39:35.083653Z",
     "start_time": "2024-01-10T14:39:34.989203Z"
    },
    "scrolled": true
   },
   "outputs": [
    {
     "data": {
      "text/html": [
       "<div>\n",
       "<style scoped>\n",
       "    .dataframe tbody tr th:only-of-type {\n",
       "        vertical-align: middle;\n",
       "    }\n",
       "\n",
       "    .dataframe tbody tr th {\n",
       "        vertical-align: top;\n",
       "    }\n",
       "\n",
       "    .dataframe thead th {\n",
       "        text-align: right;\n",
       "    }\n",
       "</style>\n",
       "<table border=\"1\" class=\"dataframe\">\n",
       "  <thead>\n",
       "    <tr style=\"text-align: right;\">\n",
       "      <th></th>\n",
       "      <th>carat</th>\n",
       "      <th>cut</th>\n",
       "      <th>color</th>\n",
       "      <th>clarity</th>\n",
       "      <th>depth</th>\n",
       "      <th>table</th>\n",
       "      <th>price</th>\n",
       "      <th>x</th>\n",
       "      <th>y</th>\n",
       "      <th>z</th>\n",
       "    </tr>\n",
       "  </thead>\n",
       "  <tbody>\n",
       "    <tr>\n",
       "      <th>0</th>\n",
       "      <td>0.23</td>\n",
       "      <td>Ideal</td>\n",
       "      <td>E</td>\n",
       "      <td>SI2</td>\n",
       "      <td>61.5</td>\n",
       "      <td>55.0</td>\n",
       "      <td>326</td>\n",
       "      <td>3.95</td>\n",
       "      <td>3.98</td>\n",
       "      <td>2.43</td>\n",
       "    </tr>\n",
       "    <tr>\n",
       "      <th>1</th>\n",
       "      <td>0.21</td>\n",
       "      <td>Premium</td>\n",
       "      <td>E</td>\n",
       "      <td>SI1</td>\n",
       "      <td>59.8</td>\n",
       "      <td>61.0</td>\n",
       "      <td>326</td>\n",
       "      <td>3.89</td>\n",
       "      <td>3.84</td>\n",
       "      <td>2.31</td>\n",
       "    </tr>\n",
       "    <tr>\n",
       "      <th>2</th>\n",
       "      <td>0.23</td>\n",
       "      <td>Good</td>\n",
       "      <td>E</td>\n",
       "      <td>VS1</td>\n",
       "      <td>56.9</td>\n",
       "      <td>65.0</td>\n",
       "      <td>327</td>\n",
       "      <td>4.05</td>\n",
       "      <td>4.07</td>\n",
       "      <td>2.31</td>\n",
       "    </tr>\n",
       "    <tr>\n",
       "      <th>3</th>\n",
       "      <td>0.29</td>\n",
       "      <td>Premium</td>\n",
       "      <td>I</td>\n",
       "      <td>VS2</td>\n",
       "      <td>62.4</td>\n",
       "      <td>58.0</td>\n",
       "      <td>334</td>\n",
       "      <td>4.20</td>\n",
       "      <td>4.23</td>\n",
       "      <td>2.63</td>\n",
       "    </tr>\n",
       "    <tr>\n",
       "      <th>4</th>\n",
       "      <td>0.31</td>\n",
       "      <td>Good</td>\n",
       "      <td>J</td>\n",
       "      <td>SI2</td>\n",
       "      <td>63.3</td>\n",
       "      <td>58.0</td>\n",
       "      <td>335</td>\n",
       "      <td>4.34</td>\n",
       "      <td>4.35</td>\n",
       "      <td>2.75</td>\n",
       "    </tr>\n",
       "    <tr>\n",
       "      <th>...</th>\n",
       "      <td>...</td>\n",
       "      <td>...</td>\n",
       "      <td>...</td>\n",
       "      <td>...</td>\n",
       "      <td>...</td>\n",
       "      <td>...</td>\n",
       "      <td>...</td>\n",
       "      <td>...</td>\n",
       "      <td>...</td>\n",
       "      <td>...</td>\n",
       "    </tr>\n",
       "    <tr>\n",
       "      <th>53935</th>\n",
       "      <td>0.72</td>\n",
       "      <td>Ideal</td>\n",
       "      <td>D</td>\n",
       "      <td>SI1</td>\n",
       "      <td>60.8</td>\n",
       "      <td>57.0</td>\n",
       "      <td>2757</td>\n",
       "      <td>5.75</td>\n",
       "      <td>5.76</td>\n",
       "      <td>3.50</td>\n",
       "    </tr>\n",
       "    <tr>\n",
       "      <th>53936</th>\n",
       "      <td>0.72</td>\n",
       "      <td>Good</td>\n",
       "      <td>D</td>\n",
       "      <td>SI1</td>\n",
       "      <td>63.1</td>\n",
       "      <td>55.0</td>\n",
       "      <td>2757</td>\n",
       "      <td>5.69</td>\n",
       "      <td>5.75</td>\n",
       "      <td>3.61</td>\n",
       "    </tr>\n",
       "    <tr>\n",
       "      <th>53937</th>\n",
       "      <td>0.70</td>\n",
       "      <td>Very Good</td>\n",
       "      <td>D</td>\n",
       "      <td>SI1</td>\n",
       "      <td>62.8</td>\n",
       "      <td>60.0</td>\n",
       "      <td>2757</td>\n",
       "      <td>5.66</td>\n",
       "      <td>5.68</td>\n",
       "      <td>3.56</td>\n",
       "    </tr>\n",
       "    <tr>\n",
       "      <th>53938</th>\n",
       "      <td>0.86</td>\n",
       "      <td>Premium</td>\n",
       "      <td>H</td>\n",
       "      <td>SI2</td>\n",
       "      <td>61.0</td>\n",
       "      <td>58.0</td>\n",
       "      <td>2757</td>\n",
       "      <td>6.15</td>\n",
       "      <td>6.12</td>\n",
       "      <td>3.74</td>\n",
       "    </tr>\n",
       "    <tr>\n",
       "      <th>53939</th>\n",
       "      <td>0.75</td>\n",
       "      <td>Ideal</td>\n",
       "      <td>D</td>\n",
       "      <td>SI2</td>\n",
       "      <td>62.2</td>\n",
       "      <td>55.0</td>\n",
       "      <td>2757</td>\n",
       "      <td>5.83</td>\n",
       "      <td>5.87</td>\n",
       "      <td>3.64</td>\n",
       "    </tr>\n",
       "  </tbody>\n",
       "</table>\n",
       "<p>53940 rows × 10 columns</p>\n",
       "</div>"
      ],
      "text/plain": [
       "       carat        cut color clarity  depth  table  price     x     y     z\n",
       "0       0.23      Ideal     E     SI2   61.5   55.0    326  3.95  3.98  2.43\n",
       "1       0.21    Premium     E     SI1   59.8   61.0    326  3.89  3.84  2.31\n",
       "2       0.23       Good     E     VS1   56.9   65.0    327  4.05  4.07  2.31\n",
       "3       0.29    Premium     I     VS2   62.4   58.0    334  4.20  4.23  2.63\n",
       "4       0.31       Good     J     SI2   63.3   58.0    335  4.34  4.35  2.75\n",
       "...      ...        ...   ...     ...    ...    ...    ...   ...   ...   ...\n",
       "53935   0.72      Ideal     D     SI1   60.8   57.0   2757  5.75  5.76  3.50\n",
       "53936   0.72       Good     D     SI1   63.1   55.0   2757  5.69  5.75  3.61\n",
       "53937   0.70  Very Good     D     SI1   62.8   60.0   2757  5.66  5.68  3.56\n",
       "53938   0.86    Premium     H     SI2   61.0   58.0   2757  6.15  6.12  3.74\n",
       "53939   0.75      Ideal     D     SI2   62.2   55.0   2757  5.83  5.87  3.64\n",
       "\n",
       "[53940 rows x 10 columns]"
      ]
     },
     "execution_count": 2,
     "metadata": {},
     "output_type": "execute_result"
    }
   ],
   "source": [
    "#diamonds.csv from seaborn dataset\n",
    "data = pd.read_csv('data/diamonds.csv')\n",
    "data"
   ]
  },
  {
   "cell_type": "code",
   "execution_count": 3,
   "id": "3d74b460",
   "metadata": {
    "ExecuteTime": {
     "end_time": "2024-01-10T14:39:35.135299Z",
     "start_time": "2024-01-10T14:39:35.085570Z"
    }
   },
   "outputs": [
    {
     "data": {
      "text/plain": [
       "0"
      ]
     },
     "execution_count": 3,
     "metadata": {},
     "output_type": "execute_result"
    }
   ],
   "source": [
    "#checking null data\n",
    "sum(data.isnull().sum())"
   ]
  },
  {
   "cell_type": "code",
   "execution_count": 4,
   "id": "89bfd0db",
   "metadata": {
    "ExecuteTime": {
     "end_time": "2024-01-10T14:39:35.155010Z",
     "start_time": "2024-01-10T14:39:35.137337Z"
    },
    "scrolled": false
   },
   "outputs": [
    {
     "data": {
      "text/plain": [
       "carat      float64\n",
       "cut         object\n",
       "color       object\n",
       "clarity     object\n",
       "depth      float64\n",
       "table      float64\n",
       "price        int64\n",
       "x          float64\n",
       "y          float64\n",
       "z          float64\n",
       "dtype: object"
      ]
     },
     "execution_count": 4,
     "metadata": {},
     "output_type": "execute_result"
    }
   ],
   "source": [
    "#checking data types\n",
    "data.dtypes"
   ]
  },
  {
   "cell_type": "code",
   "execution_count": 5,
   "id": "df76ae4d",
   "metadata": {
    "ExecuteTime": {
     "end_time": "2024-01-10T14:39:35.170437Z",
     "start_time": "2024-01-10T14:39:35.158927Z"
    }
   },
   "outputs": [],
   "source": [
    "def diamond_price_model(data):\n",
    "    \n",
    "    # Define input and output tensors with the values for 53940 diamonds\n",
    "    # Remember to explictly set the dtype as float\n",
    "    xs = np.array(list(data['carat']), dtype=float)\n",
    "    ys = np.array(list(data['price']), dtype=float)\n",
    "    \n",
    "    # Define your model (should be a model with 1 dense layer and 1 unit)\n",
    "    model = tf.keras.Sequential([tf.keras.layers.Dense(units=1, input_shape=[1])])\n",
    "    \n",
    "    # Compile your model\n",
    "    # Set the optimizer to Stochastic Gradient Descent\n",
    "    # and use Mean Squared Error as the loss function\n",
    "    model.compile(optimizer='sgd', loss='mean_squared_error')\n",
    "    \n",
    "    # Train your model for 30 epochs by feeding the i/o tensors\n",
    "    model.fit(xs, ys, epochs=30)\n",
    "    \n",
    "    return model"
   ]
  },
  {
   "cell_type": "code",
   "execution_count": 6,
   "id": "d5be6d14",
   "metadata": {
    "ExecuteTime": {
     "end_time": "2024-01-10T14:41:07.865874Z",
     "start_time": "2024-01-10T14:39:35.173494Z"
    },
    "scrolled": true
   },
   "outputs": [
    {
     "name": "stdout",
     "output_type": "stream",
     "text": [
      "WARNING:tensorflow:From C:\\Users\\harry\\anaconda3\\lib\\site-packages\\keras\\src\\backend.py:873: The name tf.get_default_graph is deprecated. Please use tf.compat.v1.get_default_graph instead.\n",
      "\n",
      "WARNING:tensorflow:From C:\\Users\\harry\\anaconda3\\lib\\site-packages\\keras\\src\\optimizers\\__init__.py:309: The name tf.train.Optimizer is deprecated. Please use tf.compat.v1.train.Optimizer instead.\n",
      "\n",
      "Epoch 1/30\n",
      "WARNING:tensorflow:From C:\\Users\\harry\\anaconda3\\lib\\site-packages\\keras\\src\\utils\\tf_utils.py:492: The name tf.ragged.RaggedTensorValue is deprecated. Please use tf.compat.v1.ragged.RaggedTensorValue instead.\n",
      "\n",
      "1686/1686 [==============================] - 3s 2ms/step - loss: 3380118.2500\n",
      "Epoch 2/30\n",
      "1686/1686 [==============================] - 3s 2ms/step - loss: 2401843.7500\n",
      "Epoch 3/30\n",
      "1686/1686 [==============================] - 3s 2ms/step - loss: 2400946.5000\n",
      "Epoch 4/30\n",
      "1686/1686 [==============================] - 2s 1ms/step - loss: 2401482.2500\n",
      "Epoch 5/30\n",
      "1686/1686 [==============================] - 3s 2ms/step - loss: 2400777.5000\n",
      "Epoch 6/30\n",
      "1686/1686 [==============================] - 3s 2ms/step - loss: 2398621.7500\n",
      "Epoch 7/30\n",
      "1686/1686 [==============================] - 3s 2ms/step - loss: 2400037.7500\n",
      "Epoch 8/30\n",
      "1686/1686 [==============================] - 3s 2ms/step - loss: 2400580.0000\n",
      "Epoch 9/30\n",
      "1686/1686 [==============================] - 3s 2ms/step - loss: 2400796.5000\n",
      "Epoch 10/30\n",
      "1686/1686 [==============================] - 3s 2ms/step - loss: 2400263.2500\n",
      "Epoch 11/30\n",
      "1686/1686 [==============================] - 3s 2ms/step - loss: 2399888.5000\n",
      "Epoch 12/30\n",
      "1686/1686 [==============================] - 3s 2ms/step - loss: 2400625.0000\n",
      "Epoch 13/30\n",
      "1686/1686 [==============================] - 3s 2ms/step - loss: 2400941.5000\n",
      "Epoch 14/30\n",
      "1686/1686 [==============================] - 3s 2ms/step - loss: 2400881.7500\n",
      "Epoch 15/30\n",
      "1686/1686 [==============================] - 3s 2ms/step - loss: 2401054.5000\n",
      "Epoch 16/30\n",
      "1686/1686 [==============================] - 3s 2ms/step - loss: 2401280.7500\n",
      "Epoch 17/30\n",
      "1686/1686 [==============================] - 3s 2ms/step - loss: 2400432.2500\n",
      "Epoch 18/30\n",
      "1686/1686 [==============================] - 3s 2ms/step - loss: 2400157.5000\n",
      "Epoch 19/30\n",
      "1686/1686 [==============================] - 3s 2ms/step - loss: 2399659.0000\n",
      "Epoch 20/30\n",
      "1686/1686 [==============================] - 3s 2ms/step - loss: 2400340.2500\n",
      "Epoch 21/30\n",
      "1686/1686 [==============================] - 3s 2ms/step - loss: 2400550.7500\n",
      "Epoch 22/30\n",
      "1686/1686 [==============================] - 3s 2ms/step - loss: 2401027.5000\n",
      "Epoch 23/30\n",
      "1686/1686 [==============================] - 3s 2ms/step - loss: 2400425.7500\n",
      "Epoch 24/30\n",
      "1686/1686 [==============================] - 3s 2ms/step - loss: 2400494.2500\n",
      "Epoch 25/30\n",
      "1686/1686 [==============================] - 3s 2ms/step - loss: 2400287.2500\n",
      "Epoch 26/30\n",
      "1686/1686 [==============================] - 3s 2ms/step - loss: 2400635.5000\n",
      "Epoch 27/30\n",
      "1686/1686 [==============================] - 3s 2ms/step - loss: 2400590.2500\n",
      "Epoch 28/30\n",
      "1686/1686 [==============================] - 3s 2ms/step - loss: 2399764.0000\n",
      "Epoch 29/30\n",
      "1686/1686 [==============================] - 3s 2ms/step - loss: 2400830.5000\n",
      "Epoch 30/30\n",
      "1686/1686 [==============================] - 3s 2ms/step - loss: 2400422.2500\n"
     ]
    }
   ],
   "source": [
    "# Get your trained model\n",
    "model = diamond_price_model(data)"
   ]
  },
  {
   "cell_type": "code",
   "execution_count": 7,
   "id": "a717d4bb",
   "metadata": {
    "ExecuteTime": {
     "end_time": "2024-01-10T14:41:08.100248Z",
     "start_time": "2024-01-10T14:41:07.867933Z"
    },
    "scrolled": true
   },
   "outputs": [
    {
     "name": "stdout",
     "output_type": "stream",
     "text": [
      "1/1 [==============================] - 0s 157ms/step\n",
      "1643.8296\n"
     ]
    }
   ],
   "source": [
    "new_x = 0.5 #new carat data\n",
    "prediction = model.predict([new_x])[0][0]\n",
    "print(prediction)"
   ]
  },
  {
   "cell_type": "markdown",
   "id": "50a4f771",
   "metadata": {},
   "source": [
    "The estimated price of a diamond with a carat weight of 0.5 is 1643.8296K.\n",
    "\n",
    "This suggests that the neural network captured and learned the linear relationship between carat weight and diamond price."
   ]
  }
 ],
 "metadata": {
  "kernelspec": {
   "display_name": "Python 3 (ipykernel)",
   "language": "python",
   "name": "python3"
  },
  "language_info": {
   "codemirror_mode": {
    "name": "ipython",
    "version": 3
   },
   "file_extension": ".py",
   "mimetype": "text/x-python",
   "name": "python",
   "nbconvert_exporter": "python",
   "pygments_lexer": "ipython3",
   "version": "3.9.15"
  },
  "toc": {
   "base_numbering": 1,
   "nav_menu": {},
   "number_sections": true,
   "sideBar": true,
   "skip_h1_title": false,
   "title_cell": "Table of Contents",
   "title_sidebar": "Contents",
   "toc_cell": true,
   "toc_position": {},
   "toc_section_display": true,
   "toc_window_display": false
  }
 },
 "nbformat": 4,
 "nbformat_minor": 5
}
